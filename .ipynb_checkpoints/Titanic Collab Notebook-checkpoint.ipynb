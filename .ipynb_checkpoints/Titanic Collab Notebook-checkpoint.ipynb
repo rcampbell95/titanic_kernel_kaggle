{
 "cells": [
  {
   "cell_type": "markdown",
   "metadata": {},
   "source": [
    "#  Predicting Gender\n",
    "\n",
    "## Table of Contents\n",
    "1. <a href=\"introduction\">Introduction</a>\n",
    "2. <a href=\"libraries\">Libraries</a>\n",
    "3. <a href=\"data\">Knowing the Data</a>\n",
    "4. <a href=\"explore\">Exploring Some Variables</a>\n",
    "5. <a href=\"preprocess\">Preprocessing</a>\n",
    "6. <a href=\"model\">Modelling</a>\n",
    "7. <a href=\"validate\">Validation</a>\n",
    "\n",
    "### 1. Introduction\n",
    "\n",
    "A quick coding session for practice. We will attempt to predict the gender of passengers using the Titanic dataset from Kaggle's Titanic competition.\n",
    "\n",
    "### 2. Libraries\n",
    "\n",
    "\n"
   ]
  },
  {
   "cell_type": "code",
   "execution_count": 2,
   "metadata": {},
   "outputs": [
    {
     "name": "stdout",
     "output_type": "stream",
     "text": [
      "Info: \n",
      "\n",
      "<class 'pandas.core.frame.DataFrame'>\n",
      "RangeIndex: 891 entries, 0 to 890\n",
      "Data columns (total 12 columns):\n",
      "PassengerId    891 non-null int64\n",
      "Survived       891 non-null int64\n",
      "Pclass         891 non-null int64\n",
      "Name           891 non-null object\n",
      "Sex            891 non-null object\n",
      "Age            714 non-null float64\n",
      "SibSp          891 non-null int64\n",
      "Parch          891 non-null int64\n",
      "Ticket         891 non-null object\n",
      "Fare           891 non-null float64\n",
      "Cabin          204 non-null object\n",
      "Embarked       889 non-null object\n",
      "dtypes: float64(2), int64(5), object(5)\n",
      "memory usage: 66.2+ KB\n",
      "\n",
      "Description:\n",
      "       PassengerId    Survived      Pclass         Age       SibSp  \\\n",
      "count   891.000000  891.000000  891.000000  714.000000  891.000000   \n",
      "mean    446.000000    0.383838    2.308642   29.699118    0.523008   \n",
      "std     257.353842    0.486592    0.836071   14.526497    1.102743   \n",
      "min       1.000000    0.000000    1.000000    0.420000    0.000000   \n",
      "25%     223.500000    0.000000    2.000000   20.125000    0.000000   \n",
      "50%     446.000000    0.000000    3.000000   28.000000    0.000000   \n",
      "75%     668.500000    1.000000    3.000000   38.000000    1.000000   \n",
      "max     891.000000    1.000000    3.000000   80.000000    8.000000   \n",
      "\n",
      "            Parch        Fare  \n",
      "count  891.000000  891.000000  \n",
      "mean     0.381594   32.204208  \n",
      "std      0.806057   49.693429  \n",
      "min      0.000000    0.000000  \n",
      "25%      0.000000    7.910400  \n",
      "50%      0.000000   14.454200  \n",
      "75%      0.000000   31.000000  \n",
      "max      6.000000  512.329200  \n",
      "\n",
      "Head:\n",
      "\n"
     ]
    },
    {
     "data": {
      "text/html": [
       "<div>\n",
       "<style scoped>\n",
       "    .dataframe tbody tr th:only-of-type {\n",
       "        vertical-align: middle;\n",
       "    }\n",
       "\n",
       "    .dataframe tbody tr th {\n",
       "        vertical-align: top;\n",
       "    }\n",
       "\n",
       "    .dataframe thead th {\n",
       "        text-align: right;\n",
       "    }\n",
       "</style>\n",
       "<table border=\"1\" class=\"dataframe\">\n",
       "  <thead>\n",
       "    <tr style=\"text-align: right;\">\n",
       "      <th></th>\n",
       "      <th>PassengerId</th>\n",
       "      <th>Survived</th>\n",
       "      <th>Pclass</th>\n",
       "      <th>Name</th>\n",
       "      <th>Sex</th>\n",
       "      <th>Age</th>\n",
       "      <th>SibSp</th>\n",
       "      <th>Parch</th>\n",
       "      <th>Ticket</th>\n",
       "      <th>Fare</th>\n",
       "      <th>Cabin</th>\n",
       "      <th>Embarked</th>\n",
       "    </tr>\n",
       "  </thead>\n",
       "  <tbody>\n",
       "    <tr>\n",
       "      <th>0</th>\n",
       "      <td>1</td>\n",
       "      <td>0</td>\n",
       "      <td>3</td>\n",
       "      <td>Braund, Mr. Owen Harris</td>\n",
       "      <td>male</td>\n",
       "      <td>22.0</td>\n",
       "      <td>1</td>\n",
       "      <td>0</td>\n",
       "      <td>A/5 21171</td>\n",
       "      <td>7.2500</td>\n",
       "      <td>NaN</td>\n",
       "      <td>S</td>\n",
       "    </tr>\n",
       "    <tr>\n",
       "      <th>1</th>\n",
       "      <td>2</td>\n",
       "      <td>1</td>\n",
       "      <td>1</td>\n",
       "      <td>Cumings, Mrs. John Bradley (Florence Briggs Th...</td>\n",
       "      <td>female</td>\n",
       "      <td>38.0</td>\n",
       "      <td>1</td>\n",
       "      <td>0</td>\n",
       "      <td>PC 17599</td>\n",
       "      <td>71.2833</td>\n",
       "      <td>C85</td>\n",
       "      <td>C</td>\n",
       "    </tr>\n",
       "    <tr>\n",
       "      <th>2</th>\n",
       "      <td>3</td>\n",
       "      <td>1</td>\n",
       "      <td>3</td>\n",
       "      <td>Heikkinen, Miss. Laina</td>\n",
       "      <td>female</td>\n",
       "      <td>26.0</td>\n",
       "      <td>0</td>\n",
       "      <td>0</td>\n",
       "      <td>STON/O2. 3101282</td>\n",
       "      <td>7.9250</td>\n",
       "      <td>NaN</td>\n",
       "      <td>S</td>\n",
       "    </tr>\n",
       "    <tr>\n",
       "      <th>3</th>\n",
       "      <td>4</td>\n",
       "      <td>1</td>\n",
       "      <td>1</td>\n",
       "      <td>Futrelle, Mrs. Jacques Heath (Lily May Peel)</td>\n",
       "      <td>female</td>\n",
       "      <td>35.0</td>\n",
       "      <td>1</td>\n",
       "      <td>0</td>\n",
       "      <td>113803</td>\n",
       "      <td>53.1000</td>\n",
       "      <td>C123</td>\n",
       "      <td>S</td>\n",
       "    </tr>\n",
       "    <tr>\n",
       "      <th>4</th>\n",
       "      <td>5</td>\n",
       "      <td>0</td>\n",
       "      <td>3</td>\n",
       "      <td>Allen, Mr. William Henry</td>\n",
       "      <td>male</td>\n",
       "      <td>35.0</td>\n",
       "      <td>0</td>\n",
       "      <td>0</td>\n",
       "      <td>373450</td>\n",
       "      <td>8.0500</td>\n",
       "      <td>NaN</td>\n",
       "      <td>S</td>\n",
       "    </tr>\n",
       "  </tbody>\n",
       "</table>\n",
       "</div>"
      ],
      "text/plain": [
       "   PassengerId  Survived  Pclass  \\\n",
       "0            1         0       3   \n",
       "1            2         1       1   \n",
       "2            3         1       3   \n",
       "3            4         1       1   \n",
       "4            5         0       3   \n",
       "\n",
       "                                                Name     Sex   Age  SibSp  \\\n",
       "0                            Braund, Mr. Owen Harris    male  22.0      1   \n",
       "1  Cumings, Mrs. John Bradley (Florence Briggs Th...  female  38.0      1   \n",
       "2                             Heikkinen, Miss. Laina  female  26.0      0   \n",
       "3       Futrelle, Mrs. Jacques Heath (Lily May Peel)  female  35.0      1   \n",
       "4                           Allen, Mr. William Henry    male  35.0      0   \n",
       "\n",
       "   Parch            Ticket     Fare Cabin Embarked  \n",
       "0      0         A/5 21171   7.2500   NaN        S  \n",
       "1      0          PC 17599  71.2833   C85        C  \n",
       "2      0  STON/O2. 3101282   7.9250   NaN        S  \n",
       "3      0            113803  53.1000  C123        S  \n",
       "4      0            373450   8.0500   NaN        S  "
      ]
     },
     "execution_count": 2,
     "metadata": {},
     "output_type": "execute_result"
    }
   ],
   "source": [
    "# This Python 3 environment comes with many helpful analytics libraries installed\n",
    "# It is defined by the kaggle/python docker image: https://github.com/kaggle/docker-python\n",
    "# For example, here's several helpful packages to load in \n",
    "import numpy as np # linear algebra\n",
    "import pandas as pd # data processing, CSV file I/O (e.g. pd.read_csv)\n",
    "import matplotlib.pyplot as plt\n",
    "import seaborn as sns\n",
    "from sklearn.preprocessing import LabelEncoder\n",
    "\n",
    "# Print plots\n",
    "%matplotlib inline\n",
    "\n",
    "import warnings; warnings.simplefilter('ignore') # Don't print warnings\n",
    "\n",
    "# Input data files are available in the \"../input/\" directory.\n",
    "# For example, running this (by clicking run or pressing Shift+Enter) will list the files in the input directory\n",
    "\n",
    "import os\n",
    "# print(os.listdir(\"../input\"))\n",
    "\n",
    "# Read Data\n",
    "train_data_path = \"./input/train.csv\"\n",
    "raw_train_data = pd.read_csv(train_data_path)\n",
    "\n",
    "df_train = raw_train_data.copy()\n",
    "\n",
    "# Data Summary\n",
    "print(\"Info: \\n\")\n",
    "df_train.info()\n",
    "print(\"\\nDescription:\\n{}\".format(raw_train_data.describe()))\n",
    "df_train.describe()\n",
    "print(\"\\nHead:\\n\")\n",
    "df_train.head()"
   ]
  },
  {
   "cell_type": "markdown",
   "metadata": {},
   "source": [
    "## 3. Knowing the Data\n",
    "\n",
    "### 3.1 Which columns have missing data?"
   ]
  },
  {
   "cell_type": "code",
   "execution_count": 3,
   "metadata": {},
   "outputs": [
    {
     "name": "stdout",
     "output_type": "stream",
     "text": [
      "Age # data missing: 177\n",
      "Cabin # data missing: 687\n",
      "Embarked # data missing: 2\n"
     ]
    }
   ],
   "source": [
    "# See which columns have missing values\n",
    "for column in df_train:\n",
    "    num_nulls = df_train[column].isnull().sum()\n",
    "    \n",
    "    if num_nulls > 0:\n",
    "        print(column + ' # data missing: {}'.format(num_nulls))"
   ]
  },
  {
   "cell_type": "markdown",
   "metadata": {},
   "source": [
    "### 3.2 Imputation"
   ]
  },
  {
   "cell_type": "code",
   "execution_count": null,
   "metadata": {},
   "outputs": [],
   "source": [
    "# Drop Cabin (too many missing values)\n",
    "df_train.drop('Cabin', axis=1, inplace=True)"
   ]
  },
  {
   "cell_type": "code",
   "execution_count": 12,
   "metadata": {},
   "outputs": [
    {
     "name": "stdout",
     "output_type": "stream",
     "text": [
      "Embarked # data missing: 0\n"
     ]
    }
   ],
   "source": [
    "# Impute missing valuse in Embarked with mode\n",
    "df_train['Embarked'].fillna(df_train['Embarked'].mode()[0], inplace = True)\n",
    "\n",
    "# Check\n",
    "print(\"Embarked # data missing: {}\".format(df_train['Embarked'].isnull().sum()))"
   ]
  },
  {
   "cell_type": "code",
   "execution_count": 4,
   "metadata": {},
   "outputs": [
    {
     "name": "stdout",
     "output_type": "stream",
     "text": [
      "Age # data missing: 0\n"
     ]
    }
   ],
   "source": [
    "# Impute missing values in Age with median\n",
    "df_train.loc[df_train.Age.isnull(), 'Age'] = df_train.groupby(['Sex','Pclass']).Age.transform('median')\n",
    "\n",
    "# Check\n",
    "print(\"Age # data missing: {}\".format(df_train['Age'].isnull().sum()))"
   ]
  },
  {
   "cell_type": "markdown",
   "metadata": {},
   "source": [
    "### 3.3 Visualization"
   ]
  },
  {
   "cell_type": "code",
   "execution_count": 5,
   "metadata": {},
   "outputs": [
    {
     "data": {
      "image/png": "[encoded data removed]",
      "text/plain": [
       "<Figure size 864x360 with 1 Axes>"
      ]
     },
     "metadata": {},
     "output_type": "display_data"
    },
    {
     "data": {
      "image/png": "[encoded data removed]",
      "text/plain": [
       "<Figure size 864x360 with 1 Axes>"
      ]
     },
     "metadata": {},
     "output_type": "display_data"
    },
    {
     "data": {
      "image/png": "[encoded data removed]",
      "text/plain": [
       "<Figure size 864x360 with 1 Axes>"
      ]
     },
     "metadata": {},
     "output_type": "display_data"
    }
   ],
   "source": [
    "# Graph Age Distribution by Gender\n",
    "\n",
    "# Using Seaborn\n",
    "plt.figure(figsize=(12, 5))\n",
    "sns.distplot(df_train['Age'], bins=24)\n",
    "plt.title(\"Distribution and Density by Age\")\n",
    "plt.xlabel('Age')\n",
    "plt.show()\n",
    "\n",
    "# Males\n",
    "plt.figure(figsize=(12, 5))\n",
    "sns.distplot(df_train.loc[df_train.Sex == 'male', ['Age']])\n",
    "plt.title(\"Male Distribution and Density by Age\")\n",
    "plt.xlabel('Age')\n",
    "plt.show()\n",
    "\n",
    "# Females\n",
    "plt.figure(figsize=(12, 5))\n",
    "sns.distplot(df_train.loc[df_train['Sex'] == 'female']['Age'])\n",
    "plt.title(\"Female Distribution and Density by Age\")\n",
    "plt.xlabel('Age')\n",
    "plt.show()"
   ]
  },
  {
   "cell_type": "code",
   "execution_count": null,
   "metadata": {},
   "outputs": [],
   "source": [
    "# Graph Embarked Distribution by Gender\n",
    "\n",
    "# Using Seaborn\n",
    "plt.figure(figsize=(12, 5))\n",
    "sns.distplot(df_train['Embarked'], bins=24)\n",
    "plt.title(\"Distribution and Density by Embarked\")\n",
    "plt.xlabel('Embarked')\n",
    "plt.show()\n",
    "\n",
    "# S\n",
    "plt.figure(figsize=(12, 5))\n",
    "sns.distplot(df_train.loc[df_train.Embarked == 'S', ['Embarked']])\n",
    "plt.title(\"Male Distribution and Density by Age\")\n",
    "plt.xlabel('Age')\n",
    "plt.show()\n",
    "\n",
    "# Q\n",
    "plt.figure(figsize=(12, 5))\n",
    "sns.distplot(df_train.loc[df_train['Sex'] == 'female']['Age'])\n",
    "plt.title(\"Female Distribution and Density by Age\")\n",
    "plt.xlabel('Age')\n",
    "plt.show()\n",
    "\n",
    "# C"
   ]
  },
  {
   "cell_type": "code",
   "execution_count": null,
   "metadata": {},
   "outputs": [],
   "source": [
    "# Gender v Survival\n",
    "df1 = raw_train_data.copy()\n",
    "df1.drop('Sex', axis=1, inplace=True)\n",
    "gend_df = pd.get_dummies(raw_train_data['Sex'])\n",
    "df1['female'] = gend_df['female']\n",
    "df1['male'] = gend_df['male']\n",
    "\n",
    "# print(df1.head())\n",
    "df1.drop(['Age', 'Fare'], axis=1, inplace=True)\n",
    "df1.groupby('Survived').count().plot.bar()\n",
    "\n",
    "df2 = df1.groupby('Survived').count()\n",
    "df2[['Parch', 'male', 'female']].plot.bar()\n",
    "\n",
    "df2.head()\n",
    "\n",
    "df3 = raw_train_data.copy()\n",
    "\n",
    "df3.info()\n",
    "\n",
    "# print(df1.groupby()['male', 'female'].head())\n",
    "# df1.groupby('Survived')['male'].plot.hist(stacked=False)\n",
    "\n",
    "# print(raw_train_data.groupby('Sex')[\"Survived\"].mean())"
   ]
  }
 ],
 "metadata": {
  "kernelspec": {
   "display_name": "Python 3",
   "language": "python",
   "name": "python3"
  },
  "language_info": {
   "codemirror_mode": {
    "name": "ipython",
    "version": 3
   },
   "file_extension": ".py",
   "mimetype": "text/x-python",
   "name": "python",
   "nbconvert_exporter": "python",
   "pygments_lexer": "ipython3",
   "version": "3.6.4"
  }
 },
 "nbformat": 4,
 "nbformat_minor": 2
}
