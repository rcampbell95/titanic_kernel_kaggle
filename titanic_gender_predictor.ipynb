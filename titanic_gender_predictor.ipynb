{
 "cells": [
  {
   "cell_type": "markdown",
   "metadata": {
    "_uuid": "005e76eb34c0e93caddc592ad89550908287e1c4"
   },
   "source": [
    "# Predicting Gender\n",
    "\n",
    "## Table of Contents\n",
    "1. <a href=\"introduction\">Introduction</a>\n",
    "2. <a href=\"libraries\">Libraries</a>\n",
    "3. <a href=\"data\">Knowing the Data</a>\n",
    "4. <a href=\"explore\">Exploring Some Variables</a>\n",
    "5. <a href=\"preprocess\">Preprocessing</a>\n",
    "6. <a href=\"model\">Modelling</a>\n",
    "7. <a href=\"validate\">Validation</a>\n",
    "\n",
    "### 1. Introduction\n",
    "\n",
    "A quick coding session for practice. Using the Titanic dataset from Kaggle's Titanic competition, we will attempt to predict the gender of passengers.\n",
    "\n",
    "### 2. Libraries\n",
    "\n",
    "\n"
   ]
  },
  {
   "cell_type": "code",
   "execution_count": null,
   "metadata": {
    "_cell_guid": "b1076dfc-b9ad-4769-8c92-a6c4dae69d19",
    "_uuid": "8f2839f25d086af736a60e9eeb907d3b93b6e0e5"
   },
   "outputs": [],
   "source": [
    "# This Python 3 environment comes with many helpful analytics libraries installed\n",
    "# It is defined by the kaggle/python docker image: https://github.com/kaggle/docker-python\n",
    "# For example, here's several helpful packages to load in \n",
    "\n",
    "import numpy as np # linear algebra\n",
    "import pandas as pd # data processing, CSV file I/O (e.g. pd.read_csv)\n",
    "\n",
    "# Input data files are available in the \"../input/\" directory.\n",
    "# For example, running this (by clicking run or pressing Shift+Enter) will list the files in the input directory\n",
    "\n",
    "import os\n",
    "# print(os.listdir(\"../input\"))\n",
    "\n",
    "# Read Data\n",
    "train_data_path = \"../input/train.csv\"\n",
    "raw_train_data = pd.read_csv(train_data_path)\n",
    "\n",
    "# Data Summary\n",
    "print(\"Info: \\n\")\n",
    "raw_train_data.info()\n",
    "print(\"\\nDescription: \\n{}\".format(raw_train_data.describe()))\n",
    "raw_train_data.describe()\n",
    "print(\"\\nHead: \\n\")\n",
    "raw_train_data.head()"
   ]
  },
  {
   "cell_type": "code",
   "execution_count": null,
   "metadata": {
    "_cell_guid": "79c7e3d0-c299-4dcb-8224-4455121ee9b0",
    "_uuid": "d629ff2d2480ee46fbb7e2d37f6b5fab8052498a",
    "collapsed": true
   },
   "outputs": [],
   "source": []
  }
 ],
 "metadata": {
  "kernelspec": {
   "display_name": "Python 3",
   "language": "python",
   "name": "python3"
  },
  "language_info": {
   "codemirror_mode": {
    "name": "ipython",
    "version": 3
   },
   "file_extension": ".py",
   "mimetype": "text/x-python",
   "name": "python",
   "nbconvert_exporter": "python",
   "pygments_lexer": "ipython3",
   "version": "3.6.4"
  }
 },
 "nbformat": 4,
 "nbformat_minor": 1
}
